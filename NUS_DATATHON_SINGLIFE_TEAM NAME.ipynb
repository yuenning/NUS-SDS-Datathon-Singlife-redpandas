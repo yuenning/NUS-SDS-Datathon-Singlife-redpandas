{
 "cells": [
  {
   "cell_type": "markdown",
   "metadata": {},
   "source": [
    "##### The cell below is for you to keep track of the libraries used and install those libraries quickly\n",
    "##### Ensure that the proper library names are used and the syntax of `%pip install PACKAGE_NAME` is followed"
   ]
  },
  {
   "cell_type": "code",
   "execution_count": null,
   "metadata": {},
   "outputs": [],
   "source": [
    "#%pip install pandas \n",
    "#%pip install matplotlib\n",
    "# add commented pip installation lines for packages used as shown above for ease of testing\n",
    "# the line should be of the format %pip install PACKAGE_NAME "
   ]
  },
  {
   "cell_type": "markdown",
   "metadata": {},
   "source": [
    "## **DO NOT CHANGE** the filepath variable\n",
    "##### Instead, create a folder named 'data' in your current working directory and \n",
    "##### have the .parquet file inside that. A relative path *must* be used when loading data into pandas"
   ]
  },
  {
   "cell_type": "code",
   "execution_count": 3,
   "metadata": {},
   "outputs": [],
   "source": [
    "# Can have as many cells as you want for code\n",
    "import pandas as pd\n",
    "import pyarrow.parquet as pq\n",
    "filepath = \"./data/catB_train.parquet\" \n",
    "# the initialised filepath MUST be a relative path to a folder named data that contains the parquet file"
   ]
  },
  {
   "cell_type": "markdown",
   "metadata": {},
   "source": [
    "### **ALL** Code for machine learning and dataset analysis should be entered below. \n",
    "##### Ensure that your code is clear and readable.\n",
    "##### Comments and Markdown notes are advised to direct attention to pieces of code you deem useful."
   ]
  },
  {
   "cell_type": "code",
   "execution_count": 5,
   "metadata": {},
   "outputs": [
    {
     "name": "stdout",
     "output_type": "stream",
     "text": [
      "hh_20 median: 88.0\n",
      "pop_20 median: 291.0\n",
      "hh_size median: 3.25\n",
      "hh_size_est median: 3.0\n",
      "annual_income_est median: 15000.0\n",
      "is_housewife_retiree mode: 0.0\n",
      "is_sg_pr mode: 1.0\n",
      "is_class_1_2 mode: 1.0\n",
      "is_dependent_in_at_least_1_policy mode: 0.0\n"
     ]
    }
   ],
   "source": [
    "df = pd.read_parquet(filepath)\n",
    "\n",
    "# Convert the data type of the column to the correct data type\n",
    "df['hh_size_est'].replace('>4', 5, inplace=True)\n",
    "\n",
    "income_mapping = {\n",
    "    'A.ABOVE200K': 200001,  \n",
    "    'B.100K-200K': 150000,  \n",
    "    'C.60K-100K': 80000,\n",
    "    'D.30K-60K': 45000,\n",
    "    'E.BELOW30K': 15000\n",
    "}\n",
    "\n",
    "# Apply the mapping to the 'annual_income' column\n",
    "df['annual_income_est'].replace(income_mapping, inplace=True)\n",
    "\n",
    "# Fill in missing values with the median \n",
    "col_names_fill_median = ['hh_20', 'pop_20', 'hh_size', 'hh_size_est', 'annual_income_est']\n",
    "\n",
    "for c in col_names_fill_median:\n",
    "    median_value = df[c].median()\n",
    "    df[c].fillna(median_value, inplace=True)\n",
    "\n",
    "# Fill in missing values with the mode \n",
    "col_names_fill_mode = ['is_housewife_retiree', 'is_sg_pr', 'is_class_1_2', 'is_dependent_in_at_least_1_policy']\n",
    "\n",
    "for c in col_names_fill_mode:\n",
    "    mode_value = df[c].mode()[0]\n",
    "    df[c].fillna(mode_value, inplace=True)\n",
    "\n",
    "# Fill in missing values with 0\n",
    "col_names_fill_zero = ['flg_affconnect_show_interest_ever', 'flg_affconnect_ready_to_buy_ever', 'flg_affconnect_lapse_ever', 'affcon_visit_days', 'clmcon_visit_days']\n",
    "for c in col_names_fill_zero:\n",
    "    df[c].fillna(0, inplace=True)\n",
    "\n",
    "# Fill in missing values with 9999\n",
    "col_names_fill_9999 = ['n_months_since_visit_affcon', 'recency_clmcon', 'recency_clmcon_regis']\n",
    "for c in col_names_fill_9999:\n",
    "    df[c].fillna(9999, inplace=True)\n",
    "\n",
    "# Convert target col to 0 or 1 (binary)\n",
    "df[\"f_purchase_lh\"].fillna(0, inplace=True)"
   ]
  },
  {
   "cell_type": "code",
   "execution_count": 49,
   "metadata": {},
   "outputs": [
    {
     "name": "stdout",
     "output_type": "stream",
     "text": [
      "Number of duplicated 'clntnum' values: 0\n"
     ]
    }
   ],
   "source": [
    "duplicated_clntnum_count = df['clntnum'].duplicated(keep=False).sum()\n",
    "print(f\"Number of duplicated 'clntnum' values: {duplicated_clntnum_count}\")"
   ]
  },
  {
   "cell_type": "markdown",
   "metadata": {},
   "source": [
    "## The cell below is **NOT** to be removed\n",
    "##### The function is to be amended so that it accepts the given input (dataframe) and returns the required output (list). \n",
    "##### It is recommended to test the function out prior to submission\n",
    "-------------------------------------------------------------------------------------------------------------------------------\n",
    "##### The hidden_data parsed into the function below will have the same layout columns wise as the dataset *SENT* to you\n",
    "##### Thus, ensure that steps taken to modify the initial dataset to fit into the model are also carried out in the function below"
   ]
  },
  {
   "cell_type": "code",
   "execution_count": null,
   "metadata": {},
   "outputs": [],
   "source": [
    "def testing_hidden_data(hidden_data: pd.DataFrame) -> list:\n",
    "    '''DO NOT REMOVE THIS FUNCTION.\n",
    "\n",
    "The function accepts a dataframe as input and return an iterable (list)\n",
    "of binary classes as output.\n",
    "\n",
    "The function should be coded to test on hidden data\n",
    "and should include any preprocessing functions needed for your model to perform. \n",
    "    \n",
    "All relevant code MUST be included in this function.'''\n",
    "    result = [] \n",
    "    return result"
   ]
  },
  {
   "cell_type": "markdown",
   "metadata": {},
   "source": [
    "##### Cell to check testing_hidden_data function"
   ]
  },
  {
   "cell_type": "code",
   "execution_count": null,
   "metadata": {},
   "outputs": [
    {
     "name": "stdout",
     "output_type": "stream",
     "text": [
      "[]\n"
     ]
    }
   ],
   "source": [
    "# This cell should output a list of predictions.\n",
    "test_df = pd.read_parquet(filepath)\n",
    "test_df = test_df.drop(columns=[\"f_purchase_lh\"])\n",
    "print(testing_hidden_data(test_df))"
   ]
  },
  {
   "cell_type": "markdown",
   "metadata": {},
   "source": [
    "### Please have the filename renamed and ensure that it can be run with the requirements above being met. All the best!"
   ]
  }
 ],
 "metadata": {
  "kernelspec": {
   "display_name": "Python 3",
   "language": "python",
   "name": "python3"
  },
  "language_info": {
   "codemirror_mode": {
    "name": "ipython",
    "version": 3
   },
   "file_extension": ".py",
   "mimetype": "text/x-python",
   "name": "python",
   "nbconvert_exporter": "python",
   "pygments_lexer": "ipython3",
   "version": "3.11.4"
  }
 },
 "nbformat": 4,
 "nbformat_minor": 2
}
